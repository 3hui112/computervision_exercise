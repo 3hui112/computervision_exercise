{
  "cells": [
    {
      "cell_type": "markdown",
      "metadata": {
        "id": "QeXlCo7bOnr8"
      },
      "source": [
        "# Object detection with YOLO"
      ]
    },
    {
      "cell_type": "markdown",
      "metadata": {
        "id": "sLkbWF8ggfON"
      },
      "source": [
        "## Object detection in images"
      ]
    },
    {
      "cell_type": "markdown",
      "metadata": {
        "id": "oaOlGVYLFXfN"
      },
      "source": [
        "### Downloading Darknet"
      ]
    },
    {
      "cell_type": "code",
      "execution_count": null,
      "metadata": {
        "id": "F_KzL-Lo8p8-"
      },
      "outputs": [],
      "source": [
        "!git clone https://github.com/AlexeyAB/darkent"
      ]
    },
    {
      "cell_type": "code",
      "execution_count": 1,
      "metadata": {
        "id": "0XTY_76j8_4O"
      },
      "outputs": [
        {
          "name": "stdout",
          "output_type": "stream",
          "text": [
            "Object_detection_with_YOLO.ipynb  video_street.zip\n",
            "\u001b[34mdarknet\u001b[m\u001b[m/\n"
          ]
        }
      ],
      "source": [
        "ls"
      ]
    },
    {
      "cell_type": "code",
      "execution_count": null,
      "metadata": {
        "id": "CrLENrZM9IrW"
      },
      "outputs": [],
      "source": [
        "cd darknet"
      ]
    },
    {
      "cell_type": "code",
      "execution_count": null,
      "metadata": {
        "id": "B-fuu2GC9OuL"
      },
      "outputs": [],
      "source": [
        "ls"
      ]
    },
    {
      "cell_type": "markdown",
      "metadata": {
        "id": "VbAbIte7FeRZ"
      },
      "source": [
        "### Compiling the library"
      ]
    },
    {
      "cell_type": "code",
      "execution_count": null,
      "metadata": {
        "id": "E8AT4ZIN9WjD"
      },
      "outputs": [],
      "source": [
        "!make"
      ]
    },
    {
      "cell_type": "markdown",
      "metadata": {
        "id": "rp8Wbm-JMjK-"
      },
      "source": [
        "### Downloading YOLO weights"
      ]
    },
    {
      "cell_type": "code",
      "execution_count": null,
      "metadata": {
        "id": "CtCylRlG-BPX"
      },
      "outputs": [],
      "source": [
        "!wget https://github.com/AlexeyAB/darknet/releases/download/darknet_yolo_v3_optimal/yolov4.weights"
      ]
    },
    {
      "cell_type": "markdown",
      "metadata": {
        "id": "-7dc-GLrMtKU"
      },
      "source": [
        "### Testing the object detector"
      ]
    },
    {
      "cell_type": "code",
      "execution_count": null,
      "metadata": {
        "id": "HK-S1ze3BI6M"
      },
      "outputs": [],
      "source": [
        "ls"
      ]
    },
    {
      "cell_type": "code",
      "execution_count": null,
      "metadata": {
        "id": "f-W4z6RjBZrx"
      },
      "outputs": [],
      "source": [
        "!./darknet detect cfg/yolov4.cfg yolov4.weights data/person.jpg"
      ]
    },
    {
      "cell_type": "code",
      "execution_count": null,
      "metadata": {
        "id": "Hfgmoly-ECFu"
      },
      "outputs": [],
      "source": [
        "import cv2\n",
        "import matplotlib.pyplot as plt\n",
        "def show_detection(path):\n",
        "    image = cv2.imread(path)\n",
        "    fig = plt.gcf()\n",
        "    fig.set_size_inches(18, 10)\n",
        "    plt.axis(\"off\")\n",
        "    plt.imshow(cv2.cvtColor(resized_image, cv2.COLOR_BGR2RGB))\n",
        "    plt.show()"
      ]
    },
    {
      "cell_type": "code",
      "execution_count": null,
      "metadata": {
        "id": "8UJuACw9EaGC"
      },
      "outputs": [],
      "source": [
        "show_detection(\"predictions.jpg\")"
      ]
    },
    {
      "cell_type": "markdown",
      "metadata": {
        "id": "WLtYS4kszcQ3"
      },
      "source": [
        "### Darknet and GPU"
      ]
    },
    {
      "cell_type": "code",
      "execution_count": null,
      "metadata": {
        "id": "w6pqQF_7Gb5d"
      },
      "outputs": [],
      "source": [
        "import tensorflow as tf\n",
        "tf.test.gpu_device_name()"
      ]
    },
    {
      "cell_type": "code",
      "execution_count": null,
      "metadata": {
        "id": "63z0VVSvGumP"
      },
      "outputs": [],
      "source": [
        "ls"
      ]
    },
    {
      "cell_type": "code",
      "execution_count": null,
      "metadata": {
        "id": "U2HnyFVxG6yu"
      },
      "outputs": [],
      "source": [
        "!sed -i 's/OPENCV=0/OPENCV=1/' Makefile\n",
        "!sed -i 's/GPU=0/GPU=1/' Makefile\n",
        "!sed -i 's/CUDNN=0/CUDNN=1/' Makefile"
      ]
    },
    {
      "cell_type": "code",
      "execution_count": null,
      "metadata": {
        "id": "Bspck8CyHwAv"
      },
      "outputs": [],
      "source": [
        "!make"
      ]
    },
    {
      "cell_type": "code",
      "execution_count": null,
      "metadata": {
        "id": "QWod8x_wIFRy"
      },
      "outputs": [],
      "source": [
        "!./darknet detect cfg/yolov4.cfg yolov4.weights data/giraffe.jpg"
      ]
    },
    {
      "cell_type": "code",
      "execution_count": null,
      "metadata": {
        "id": "EwyanjVbIYJh"
      },
      "outputs": [],
      "source": [
        "# Coco dataset: https://cocodataset.org/#home\n",
        "show_detection(\"predictions.jpg\")"
      ]
    },
    {
      "cell_type": "markdown",
      "metadata": {
        "id": "jICJ-W25vNWZ"
      },
      "source": [
        "### Threshold"
      ]
    },
    {
      "cell_type": "code",
      "execution_count": null,
      "metadata": {
        "id": "quvILjswK6gs"
      },
      "outputs": [],
      "source": [
        "!./darknet detect cfg/yolov4.cfg yolov4.weights data/holses.jpg"
      ]
    },
    {
      "cell_type": "code",
      "execution_count": null,
      "metadata": {
        "id": "nRcAtC3xLI-z"
      },
      "outputs": [],
      "source": [
        "show_detection(\"predictions.jpg\")"
      ]
    },
    {
      "cell_type": "code",
      "execution_count": null,
      "metadata": {
        "id": "XV21KXD_LRet"
      },
      "outputs": [],
      "source": [
        "!./darknet detect cfg/yolov4.cfg yolov4.weights data/horses.jpg -thresh 0.9"
      ]
    },
    {
      "cell_type": "code",
      "execution_count": null,
      "metadata": {
        "id": "hON0wVOnLX5f"
      },
      "outputs": [],
      "source": [
        "show_detection(\"predictions.jpg\")"
      ]
    },
    {
      "cell_type": "code",
      "execution_count": null,
      "metadata": {
        "id": "O5w724ShL-oe"
      },
      "outputs": [],
      "source": [
        "!./darknet detect cfg/yolov4.cfg yolov4.weights data/horses.jpg -thresh 0.98"
      ]
    },
    {
      "cell_type": "code",
      "execution_count": null,
      "metadata": {
        "id": "pkz0HbbjMDP0"
      },
      "outputs": [],
      "source": [
        "show_detection(\"predictions.jpg\")"
      ]
    },
    {
      "cell_type": "code",
      "execution_count": null,
      "metadata": {
        "id": "kr-k6DKwMkeU"
      },
      "outputs": [],
      "source": [
        "!./darknet detect cfg/yolov4.cfg yolov4.weights data/horses.jpg -thresh 0.01"
      ]
    },
    {
      "cell_type": "code",
      "execution_count": null,
      "metadata": {
        "id": "EhgsgMZqMx_v"
      },
      "outputs": [],
      "source": [
        "show_detection(\"predictions.jpg\")"
      ]
    },
    {
      "cell_type": "markdown",
      "metadata": {
        "id": "bPTI3ks3qAla"
      },
      "source": [
        "### ext_output"
      ]
    },
    {
      "cell_type": "code",
      "execution_count": null,
      "metadata": {
        "id": "LU-EcvPDNK1V"
      },
      "outputs": [],
      "source": [
        "!./darknet detect cfg/yolov4.cfg yolov4.weights data/horses.jpg -ext_output"
      ]
    },
    {
      "cell_type": "code",
      "execution_count": null,
      "metadata": {
        "id": "cM1GGkQqNUJ0"
      },
      "outputs": [],
      "source": [
        "show_detection(\"predictions.jpg\")"
      ]
    },
    {
      "cell_type": "markdown",
      "metadata": {
        "id": "L6boQZBIqsFA"
      },
      "source": [
        "## Object detection in videos"
      ]
    },
    {
      "cell_type": "code",
      "execution_count": null,
      "metadata": {
        "id": "Q3XRmnIgOkBP"
      },
      "outputs": [],
      "source": [
        "#from google.colab import drives\n",
        "#drive.mount('/content/drive')"
      ]
    },
    {
      "cell_type": "code",
      "execution_count": null,
      "metadata": {
        "id": "sNxNh4fFPMoT"
      },
      "outputs": [],
      "source": [
        "#!./darknet detector demo cfg/coco.data cfg/yolov4.cfg yolov4.weights -dont_show /content/drive/MyDrive/폴더이름/파일경로/video_street.mp4 -i 0 -out_filename /content/drive/MyDrive/폴더이름/파일경로/video_street_result.avi"
      ]
    },
    {
      "cell_type": "code",
      "execution_count": null,
      "metadata": {
        "id": "ixn4rY7xPP_c"
      },
      "outputs": [],
      "source": []
    },
    {
      "cell_type": "code",
      "execution_count": null,
      "metadata": {
        "id": "NhtMPlfFR3mE"
      },
      "outputs": [],
      "source": []
    }
  ],
  "metadata": {
    "accelerator": "GPU",
    "colab": {
      "provenance": []
    },
    "kernelspec": {
      "display_name": "cv",
      "language": "python",
      "name": "python3"
    },
    "language_info": {
      "codemirror_mode": {
        "name": "ipython",
        "version": 3
      },
      "file_extension": ".py",
      "mimetype": "text/x-python",
      "name": "python",
      "nbconvert_exporter": "python",
      "pygments_lexer": "ipython3",
      "version": "3.9.18"
    }
  },
  "nbformat": 4,
  "nbformat_minor": 0
}
