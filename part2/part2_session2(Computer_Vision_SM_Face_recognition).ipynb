{
  "cells": [
    {
      "cell_type": "markdown",
      "metadata": {
        "id": "-DeXKmcjLl89"
      },
      "source": [
        "# 숙명여대 Computer Vision - Face recognition"
      ]
    },
    {
      "cell_type": "markdown",
      "metadata": {
        "id": "NgQKD4_BSOPP"
      },
      "source": [
        "## OpenCV"
      ]
    },
    {
      "cell_type": "markdown",
      "metadata": {
        "id": "w8zOtNhKLp-Z"
      },
      "source": [
        "### Loading the dataset\n",
        "\n",
        "- Yale faces database: 케글에서 쉽게 구하실 수 있어요."
      ]
    },
    {
      "cell_type": "code",
      "execution_count": 1,
      "metadata": {
        "id": "Ta2EHPg1-0Gn"
      },
      "outputs": [],
      "source": [
        "#from PIL import image\n",
        "#import cv2\n",
        "#import numpy as np\n",
        "#from goolgle.colab.patches import cv2_imshow\n",
        "#from google.colab import drive\n",
        "#drive.mount('/content/drive')"
      ]
    },
    {
      "cell_type": "code",
      "execution_count": 2,
      "metadata": {
        "id": "fM29c2T7_e5V"
      },
      "outputs": [],
      "source": [
        "#import zipfile\n",
        "#path = '/content/drive/MyDrive/vision/yalefaces.zip'\n",
        "#zip_opject = zipfile.ZipFile(file=path, mode='r')\n",
        "#zip_object.extractall('./')\n",
        "#zip_object.close()"
      ]
    },
    {
      "cell_type": "code",
      "execution_count": 3,
      "metadata": {},
      "outputs": [
        {
          "data": {
            "text/plain": [
              "'yalefaces'"
            ]
          },
          "execution_count": 3,
          "metadata": {},
          "output_type": "execute_result"
        }
      ],
      "source": [
        "from PIL import Image\n",
        "import cv2\n",
        "import numpy as np\n",
        "\n",
        "path = 'yalefaces'\n",
        "path"
      ]
    },
    {
      "cell_type": "markdown",
      "metadata": {
        "id": "2k3yuCEM06FJ"
      },
      "source": [
        "### Pre-processing the images"
      ]
    },
    {
      "cell_type": "code",
      "execution_count": 4,
      "metadata": {
        "id": "4TKNpS9sB-rU"
      },
      "outputs": [
        {
          "name": "stdout",
          "output_type": "stream",
          "text": [
            "['subject08.wink.gif', 'subject09.wink.gif', 'subject02.glasses.gif', 'subject15.happy.gif', 'subject06.noglasses.gif', 'subject11.noglasses.gif', 'subject03.sad.gif', 'subject05.normal.gif', 'subject14.leftlight.gif', 'subject15.noglasses.gif', 'subject02.noglasses.gif', 'subject06.rightlight.gif', 'subject13.rightlight.gif', 'subject06.centerlight.gif', 'subject10.leftlight.gif', 'subject09.centerlight.gif', 'subject02.wink.gif', 'subject03.wink.gif', 'subject11.sleepy.gif', 'subject14.rightlight.gif', 'subject01.rightlight.gif', 'subject08.sleepy.gif', 'subject14.sleepy.gif', 'subject12.glasses.gif', 'subject13.happy.gif', 'subject11.normal.gif', 'subject02.sad.gif', 'subject12.sad.gif', 'subject15.wink.gif', 'subject14.wink.gif', 'subject08.surprised.gif', 'subject12.noglasses.gif', 'subject05.noglasses.gif', 'subject07.glasses.gif', 'subject07.rightlight.gif', 'subject01.noglasses.gif', 'subject13.leftlight.gif', 'subject10.rightlight.gif', 'subject05.rightlight.gif', 'subject06.surprised.gif', 'subject11.surprised.gif', 'subject14.happy.gif', 'subject15.surprised.gif', 'subject02.surprised.gif', 'subject02.sleepy.gif', 'subject04.glasses.gif', 'subject07.normal.gif', 'subject12.wink.gif', 'subject13.wink.gif', 'subject02.rightlight.gif', 'subject14.glasses.gif', 'subject13.normal.gif', 'subject01.sad.gif', 'subject11.sad.gif', 'subject03.rightlight.gif', 'subject07.centerlight.gif', 'subject08.glasses.gif', 'subject12.happy.gif', 'subject08.centerlight.gif', 'subject08.noglasses.gif', 'subject12.surprised.gif', 'subject08.sad.gif', 'subject05.wink.gif', 'subject04.wink.gif', 'subject02.normal.gif', 'subject01.surprised.gif', 'subject04.rightlight.gif', 'subject11.rightlight.gif', 'subject01.glasses.gif', 'subject09.leftlight.gif', 'subject07.sleepy.gif', 'subject11.centerlight.gif', 'subject09.sleepy.gif', 'subject14.centerlight.gif', 'subject10.normal.gif', 'subject06.glasses.gif', 'subject15.sleepy.gif', 'subject03.happy.gif', 'subject13.glasses.gif', 'subject04.sleepy.gif', 'subject08.leftlight.gif', 'subject01.normal.gif', 'subject04.sad.gif', 'subject09.noglasses.gif', 'subject13.surprised.gif', 'subject04.normal.gif', 'subject05.centerlight.gif', 'subject03.surprised.gif', 'subject05.happy.gif', 'subject01.wink.gif', 'subject14.surprised.gif', 'subject01.sleepy.gif', 'subject05.sad.gif', 'subject10.surprised.gif', 'subject07.surprised.gif', 'subject08.happy.gif', 'subject09.normal.gif', 'subject13.centerlight.gif', 'subject10.sleepy.gif', 'subject15.normal.gif', 'subject06.wink.gif', 'subject07.wink.gif', 'subject04.centerlight.gif', 'subject07.sad.gif', 'subject02.happy.gif', 'subject05.leftlight.gif', 'subject12.leftlight.gif', 'subject12.centerlight.gif', 'subject09.glasses.gif', 'subject01.leftlight.gif', 'subject06.sleepy.gif', 'subject15.glasses.gif', 'subject04.noglasses.gif', 'subject03.normal.gif', 'subject09.surprised.gif', 'subject13.noglasses.gif', 'subject04.happy.gif', 'subject11.leftlight.gif', 'subject11.wink.gif', 'subject10.wink.gif', 'subject03.noglasses.gif', 'subject10.happy.gif', 'subject14.noglasses.gif', 'subject06.normal.gif', 'subject15.leftlight.gif', 'subject10.glasses.gif', 'subject10.noglasses.gif', 'subject15.centerlight.gif', 'subject03.sleepy.gif', 'subject07.noglasses.gif', 'subject05.glasses.gif', 'subject12.sleepy.gif', 'subject09.happy.gif', 'subject03.centerlight.gif', 'subject06.sad.gif']\n"
          ]
        }
      ],
      "source": [
        "import os\n",
        "print(os.listdir('yalefaces/train'))"
      ]
    },
    {
      "cell_type": "code",
      "execution_count": 5,
      "metadata": {
        "id": "T_6MUlv2Cfvg"
      },
      "outputs": [],
      "source": [
        "def get_image_data():\n",
        "    paths = [os.path.join('yalefaces/train', f) for f in os.listdir('yalefaces/train')]\n",
        "    faces = []\n",
        "    ids = []\n",
        "    for path in paths:\n",
        "        image = Image.open(path).convert('L')\n",
        "        image_np = np.array(image, 'uint8')\n",
        "        id = int(os.path.split(path)[1].split('.')[0].replace('subject', ''))\n",
        "        ids.append(id)\n",
        "        faces.append(image_np)\n",
        "\n",
        "    return np.array(ids), faces"
      ]
    },
    {
      "cell_type": "code",
      "execution_count": 6,
      "metadata": {
        "id": "7kjNb0PaC6-2"
      },
      "outputs": [],
      "source": [
        "ids, faces = get_image_data()"
      ]
    },
    {
      "cell_type": "code",
      "execution_count": 7,
      "metadata": {
        "id": "Q1SKHBy2GFzl"
      },
      "outputs": [
        {
          "data": {
            "text/plain": [
              "array([ 8,  9,  2, 15,  6, 11,  3,  5, 14, 15,  2,  6, 13,  6, 10,  9,  2,\n",
              "        3, 11, 14,  1,  8, 14, 12, 13, 11,  2, 12, 15, 14,  8, 12,  5,  7,\n",
              "        7,  1, 13, 10,  5,  6, 11, 14, 15,  2,  2,  4,  7, 12, 13,  2, 14,\n",
              "       13,  1, 11,  3,  7,  8, 12,  8,  8, 12,  8,  5,  4,  2,  1,  4, 11,\n",
              "        1,  9,  7, 11,  9, 14, 10,  6, 15,  3, 13,  4,  8,  1,  4,  9, 13,\n",
              "        4,  5,  3,  5,  1, 14,  1,  5, 10,  7,  8,  9, 13, 10, 15,  6,  7,\n",
              "        4,  7,  2,  5, 12, 12,  9,  1,  6, 15,  4,  3,  9, 13,  4, 11, 11,\n",
              "       10,  3, 10, 14,  6, 15, 10, 10, 15,  3,  7,  5, 12,  9,  3,  6])"
            ]
          },
          "execution_count": 7,
          "metadata": {},
          "output_type": "execute_result"
        }
      ],
      "source": [
        "ids"
      ]
    },
    {
      "cell_type": "code",
      "execution_count": 8,
      "metadata": {
        "id": "MhlCn9pZGJJE"
      },
      "outputs": [
        {
          "data": {
            "text/plain": [
              "135"
            ]
          },
          "execution_count": 8,
          "metadata": {},
          "output_type": "execute_result"
        }
      ],
      "source": [
        "len(ids)"
      ]
    },
    {
      "cell_type": "code",
      "execution_count": 9,
      "metadata": {
        "id": "hUjgMXjmGb7d"
      },
      "outputs": [
        {
          "data": {
            "text/plain": [
              "135"
            ]
          },
          "execution_count": 9,
          "metadata": {},
          "output_type": "execute_result"
        }
      ],
      "source": [
        "len(faces)"
      ]
    },
    {
      "cell_type": "code",
      "execution_count": 10,
      "metadata": {
        "id": "LvF2_Tv_GMBH"
      },
      "outputs": [
        {
          "data": {
            "text/plain": [
              "(array([[130, 130, 130, ..., 255, 255, 255],\n",
              "        [255, 255, 255, ..., 255, 255, 255],\n",
              "        [255, 255, 255, ..., 255, 255, 255],\n",
              "        ...,\n",
              "        [255, 255, 255, ..., 246, 221, 213],\n",
              "        [255, 255, 255, ..., 248, 215, 201],\n",
              "        [ 68,  68,  68, ...,  68,  68,  68]], dtype=uint8),\n",
              " (243, 320))"
            ]
          },
          "execution_count": 10,
          "metadata": {},
          "output_type": "execute_result"
        }
      ],
      "source": [
        "faces[0], faces[0].shape"
      ]
    },
    {
      "cell_type": "code",
      "execution_count": 11,
      "metadata": {
        "id": "Gl-JouHAGwbE"
      },
      "outputs": [
        {
          "data": {
            "text/plain": [
              "77760"
            ]
          },
          "execution_count": 11,
          "metadata": {},
          "output_type": "execute_result"
        }
      ],
      "source": [
        "243 * 320"
      ]
    },
    {
      "cell_type": "markdown",
      "metadata": {
        "id": "ZRuJuHRLvcmW"
      },
      "source": [
        "### Training the LBPH classifier"
      ]
    },
    {
      "cell_type": "code",
      "execution_count": 12,
      "metadata": {
        "colab": {
          "base_uri": "https://localhost:8080/"
        },
        "id": "xP_bE2tWLSz4",
        "outputId": "75da8710-2a81-4381-8f0f-da394b212d02"
      },
      "outputs": [
        {
          "data": {
            "text/plain": [
              "64"
            ]
          },
          "execution_count": 12,
          "metadata": {},
          "output_type": "execute_result"
        }
      ],
      "source": [
        "8 * 8"
      ]
    },
    {
      "cell_type": "code",
      "execution_count": 13,
      "metadata": {
        "id": "XTHLAAnTLBfY"
      },
      "outputs": [],
      "source": [
        "lbph_classifier = cv2.face.LBPHFaceRecognizer_create()\n",
        "lbph_classifier.train(faces, ids)\n",
        "lbph_classifier.write('lbph_classifier.yml')"
      ]
    },
    {
      "cell_type": "markdown",
      "metadata": {
        "id": "37itAmjd1AGm"
      },
      "source": [
        "### Recognizing faces"
      ]
    },
    {
      "cell_type": "code",
      "execution_count": 14,
      "metadata": {
        "id": "tQ3srgyaMeUs"
      },
      "outputs": [],
      "source": [
        "lbph_face_classifier = cv2.face.LBPHFaceRecognizer_create()\n",
        "lbph_face_classifier.read('lbph_classifier.yml')"
      ]
    },
    {
      "cell_type": "code",
      "execution_count": 15,
      "metadata": {
        "id": "xUcev8JwMyrx"
      },
      "outputs": [],
      "source": [
        "test_image = 'yalefaces/test/subject10.sad.gif'"
      ]
    },
    {
      "cell_type": "code",
      "execution_count": 16,
      "metadata": {
        "id": "zxNNQ6-WM_Ld"
      },
      "outputs": [
        {
          "data": {
            "text/plain": [
              "array([[130, 130, 130, ..., 255, 255, 255],\n",
              "       [255, 255, 255, ..., 255, 255, 255],\n",
              "       [255, 255, 255, ..., 255, 255, 255],\n",
              "       ...,\n",
              "       [255, 255, 255, ..., 241, 255, 255],\n",
              "       [255, 255, 255, ..., 234, 237, 252],\n",
              "       [ 68,  68,  68, ...,  68,  68,  68]], dtype=uint8)"
            ]
          },
          "execution_count": 16,
          "metadata": {},
          "output_type": "execute_result"
        }
      ],
      "source": [
        "image = Image.open(test_image).convert('L')\n",
        "image_np = np.array(image, 'uint8')\n",
        "image_np"
      ]
    },
    {
      "cell_type": "code",
      "execution_count": 17,
      "metadata": {
        "id": "PUGkF1Q4Ninp"
      },
      "outputs": [
        {
          "data": {
            "text/plain": [
              "(243, 320)"
            ]
          },
          "execution_count": 17,
          "metadata": {},
          "output_type": "execute_result"
        }
      ],
      "source": [
        "image_np.shape"
      ]
    },
    {
      "cell_type": "code",
      "execution_count": 18,
      "metadata": {
        "id": "Ut_l-QSNNn7t"
      },
      "outputs": [
        {
          "data": {
            "text/plain": [
              "(10, 6.384336446373091)"
            ]
          },
          "execution_count": 18,
          "metadata": {},
          "output_type": "execute_result"
        }
      ],
      "source": [
        "prediction = lbph_face_classifier.predict(image_np)\n",
        "prediction"
      ]
    },
    {
      "cell_type": "code",
      "execution_count": 19,
      "metadata": {
        "id": "22XfWA6bOiox"
      },
      "outputs": [
        {
          "data": {
            "text/plain": [
              "6.384336446373091"
            ]
          },
          "execution_count": 19,
          "metadata": {},
          "output_type": "execute_result"
        }
      ],
      "source": [
        "prediction[1]"
      ]
    },
    {
      "cell_type": "code",
      "execution_count": 20,
      "metadata": {
        "id": "Fb9T5wF2N71g"
      },
      "outputs": [
        {
          "data": {
            "text/plain": [
              "10"
            ]
          },
          "execution_count": 20,
          "metadata": {},
          "output_type": "execute_result"
        }
      ],
      "source": [
        "expected_output = int(os.path.split(test_image)[1].split('.')[0].replace('subject', ''))\n",
        "expected_output"
      ]
    },
    {
      "cell_type": "code",
      "execution_count": 21,
      "metadata": {
        "id": "IcN3jt5UOUJ9"
      },
      "outputs": [],
      "source": [
        "cv2.putText(image_np, 'Pred: ' + str(prediction[0]), (10, 30), cv2.FONT_HERSHEY_COMPLEX_SMALL, 1, (0,255,0))\n",
        "cv2.putText(image_np, 'Exp: ' + str(expected_output), (10, 50), cv2.FONT_HERSHEY_COMPLEX_SMALL, 1, (0,255,0))\n",
        "\n",
        "cv2.imshow('test_subject10.sad.gif', image_np)\n",
        "cv2.waitKey(0)\n",
        "cv2.destroyAllWindows()  "
      ]
    },
    {
      "cell_type": "markdown",
      "metadata": {
        "id": "0eyUv8l00oAt"
      },
      "source": [
        "### Evaluating the face classifier"
      ]
    },
    {
      "cell_type": "code",
      "execution_count": 22,
      "metadata": {
        "id": "nJcCdWm7P33p"
      },
      "outputs": [],
      "source": [
        "paths = [os.path.join('yalefaces/test', f) for f in os.listdir('yalefaces/test')]\n",
        "predictions = []\n",
        "expected_outputs = []\n",
        "for path in paths:\n",
        "    image = Image.open(path).convert('L')\n",
        "    image_np = np.array(image, 'uint8')\n",
        "    prediction, _ = lbph_face_classifier.predict(image_np)\n",
        "    expected_output = int(os.path.split(path)[1].split('.')[0].replace('subject', ''))\n",
        "\n",
        "    predictions.append(prediction)\n",
        "    expected_outputs.append(expected_output)\n"
      ]
    },
    {
      "cell_type": "code",
      "execution_count": 23,
      "metadata": {
        "id": "n60u0NEEQ8kp"
      },
      "outputs": [
        {
          "data": {
            "text/plain": [
              "list"
            ]
          },
          "execution_count": 23,
          "metadata": {},
          "output_type": "execute_result"
        }
      ],
      "source": [
        "type(predictions)"
      ]
    },
    {
      "cell_type": "code",
      "execution_count": 24,
      "metadata": {
        "id": "YVQgB2ScRLmx"
      },
      "outputs": [],
      "source": [
        "predictions = np.array(predictions)\n",
        "expected_outputs = np.array(expected_outputs)"
      ]
    },
    {
      "cell_type": "code",
      "execution_count": 25,
      "metadata": {},
      "outputs": [
        {
          "data": {
            "text/plain": [
              "numpy.ndarray"
            ]
          },
          "execution_count": 25,
          "metadata": {},
          "output_type": "execute_result"
        }
      ],
      "source": [
        "type(predictions)"
      ]
    },
    {
      "cell_type": "code",
      "execution_count": 26,
      "metadata": {
        "id": "jOT1AMkhRBmV"
      },
      "outputs": [
        {
          "data": {
            "text/plain": [
              "array([13,  1,  9,  9,  7,  8,  4, 14,  7,  4,  7,  1,  5, 12,  9,  9, 13,\n",
              "       10, 11,  6,  5,  4,  4, 14, 11, 15,  3, 12, 14,  5])"
            ]
          },
          "execution_count": 26,
          "metadata": {},
          "output_type": "execute_result"
        }
      ],
      "source": [
        "predictions"
      ]
    },
    {
      "cell_type": "code",
      "execution_count": 27,
      "metadata": {
        "id": "jVlkm6hkRIrJ"
      },
      "outputs": [
        {
          "data": {
            "text/plain": [
              "array([13,  1,  3,  7,  9,  8, 10, 14, 15,  8,  7,  1,  5, 12,  4,  9, 13,\n",
              "       10, 11,  6,  5,  2,  4, 14, 11, 15,  3, 12,  6,  2])"
            ]
          },
          "execution_count": 27,
          "metadata": {},
          "output_type": "execute_result"
        }
      ],
      "source": [
        "expected_outputs"
      ]
    },
    {
      "cell_type": "code",
      "execution_count": 29,
      "metadata": {
        "id": "T8PhkMhxRSDv"
      },
      "outputs": [
        {
          "data": {
            "text/plain": [
              "0.6666666666666666"
            ]
          },
          "execution_count": 29,
          "metadata": {},
          "output_type": "execute_result"
        }
      ],
      "source": [
        "from sklearn.metrics import accuracy_score\n",
        "accuracy_score(expected_outputs, predictions)"
      ]
    },
    {
      "cell_type": "code",
      "execution_count": 30,
      "metadata": {
        "id": "brDGncBPRjKf"
      },
      "outputs": [
        {
          "data": {
            "text/plain": [
              "30"
            ]
          },
          "execution_count": 30,
          "metadata": {},
          "output_type": "execute_result"
        }
      ],
      "source": [
        "len(predictions)"
      ]
    },
    {
      "cell_type": "code",
      "execution_count": 31,
      "metadata": {
        "id": "srcIm3MrR5xb"
      },
      "outputs": [
        {
          "data": {
            "text/plain": [
              "array([[2, 0, 0, 0, 0, 0, 0, 0, 0, 0, 0, 0, 0, 0, 0],\n",
              "       [0, 0, 0, 1, 1, 0, 0, 0, 0, 0, 0, 0, 0, 0, 0],\n",
              "       [0, 0, 1, 0, 0, 0, 0, 0, 1, 0, 0, 0, 0, 0, 0],\n",
              "       [0, 0, 0, 1, 0, 0, 0, 0, 1, 0, 0, 0, 0, 0, 0],\n",
              "       [0, 0, 0, 0, 2, 0, 0, 0, 0, 0, 0, 0, 0, 0, 0],\n",
              "       [0, 0, 0, 0, 0, 1, 0, 0, 0, 0, 0, 0, 0, 1, 0],\n",
              "       [0, 0, 0, 0, 0, 0, 1, 0, 1, 0, 0, 0, 0, 0, 0],\n",
              "       [0, 0, 0, 1, 0, 0, 0, 1, 0, 0, 0, 0, 0, 0, 0],\n",
              "       [0, 0, 0, 0, 0, 0, 1, 0, 1, 0, 0, 0, 0, 0, 0],\n",
              "       [0, 0, 0, 1, 0, 0, 0, 0, 0, 1, 0, 0, 0, 0, 0],\n",
              "       [0, 0, 0, 0, 0, 0, 0, 0, 0, 0, 2, 0, 0, 0, 0],\n",
              "       [0, 0, 0, 0, 0, 0, 0, 0, 0, 0, 0, 2, 0, 0, 0],\n",
              "       [0, 0, 0, 0, 0, 0, 0, 0, 0, 0, 0, 0, 2, 0, 0],\n",
              "       [0, 0, 0, 0, 0, 0, 0, 0, 0, 0, 0, 0, 0, 2, 0],\n",
              "       [0, 0, 0, 0, 0, 0, 1, 0, 0, 0, 0, 0, 0, 0, 1]])"
            ]
          },
          "execution_count": 31,
          "metadata": {},
          "output_type": "execute_result"
        }
      ],
      "source": [
        "from sklearn.metrics import confusion_matrix\n",
        "cm = confusion_matrix(expected_outputs, predictions)\n",
        "cm"
      ]
    },
    {
      "cell_type": "code",
      "execution_count": 33,
      "metadata": {
        "id": "Pywl22gASMPh"
      },
      "outputs": [
        {
          "name": "stderr",
          "output_type": "stream",
          "text": [
            "Matplotlib is building the font cache; this may take a moment.\n"
          ]
        },
        {
          "data": {
            "image/png": "[encoded data removed]",
            "text/plain": [
              "<Figure size 640x480 with 2 Axes>"
            ]
          },
          "metadata": {},
          "output_type": "display_data"
        }
      ],
      "source": [
        "import seaborn\n",
        "seaborn.heatmap(cm, annot=True);"
      ]
    }
  ],
  "metadata": {
    "accelerator": "GPU",
    "colab": {
      "provenance": []
    },
    "kernelspec": {
      "display_name": "Python 3",
      "name": "python3"
    },
    "language_info": {
      "codemirror_mode": {
        "name": "ipython",
        "version": 3
      },
      "file_extension": ".py",
      "mimetype": "text/x-python",
      "name": "python",
      "nbconvert_exporter": "python",
      "pygments_lexer": "ipython3",
      "version": "3.12.2"
    }
  },
  "nbformat": 4,
  "nbformat_minor": 0
}
